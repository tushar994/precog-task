{
 "cells": [
  {
   "cell_type": "code",
   "execution_count": 1,
   "id": "27339d15",
   "metadata": {},
   "outputs": [],
   "source": [
    "import pandas as pd\n",
    "import math\n",
    "import matplotlib.pyplot as plt\n",
    "import numpy as np"
   ]
  },
  {
   "cell_type": "code",
   "execution_count": 2,
   "id": "a4d9c31f",
   "metadata": {},
   "outputs": [],
   "source": [
    "data = pd.read_csv(\"./data.csv\")"
   ]
  },
  {
   "cell_type": "code",
   "execution_count": 3,
   "id": "3c2cefa6",
   "metadata": {},
   "outputs": [
    {
     "data": {
      "text/html": [
       "<div>\n",
       "<style scoped>\n",
       "    .dataframe tbody tr th:only-of-type {\n",
       "        vertical-align: middle;\n",
       "    }\n",
       "\n",
       "    .dataframe tbody tr th {\n",
       "        vertical-align: top;\n",
       "    }\n",
       "\n",
       "    .dataframe thead th {\n",
       "        text-align: right;\n",
       "    }\n",
       "</style>\n",
       "<table border=\"1\" class=\"dataframe\">\n",
       "  <thead>\n",
       "    <tr style=\"text-align: right;\">\n",
       "      <th></th>\n",
       "      <th>tweet_id</th>\n",
       "      <th>tweet_full_text</th>\n",
       "      <th>tweet_created_at</th>\n",
       "      <th>tweet_lang</th>\n",
       "      <th>hashtags</th>\n",
       "      <th>tweet_retweet_count</th>\n",
       "      <th>tweet_favorite_count</th>\n",
       "      <th>tweet_place</th>\n",
       "      <th>user_id</th>\n",
       "      <th>user_screen_name</th>\n",
       "      <th>user_followers_count</th>\n",
       "      <th>user_friends_count</th>\n",
       "      <th>user_created_at</th>\n",
       "      <th>user_favourites_count</th>\n",
       "      <th>user_statuses_count</th>\n",
       "      <th>user_lang</th>\n",
       "      <th>user_verified</th>\n",
       "      <th>user_location</th>\n",
       "    </tr>\n",
       "  </thead>\n",
       "  <tbody>\n",
       "    <tr>\n",
       "      <th>0</th>\n",
       "      <td>1422810757440237569</td>\n",
       "      <td>b'Heartiest Congratulations to #LovlinaBorgoha...</td>\n",
       "      <td>2021-08-04 06:44:53</td>\n",
       "      <td>en</td>\n",
       "      <td>#LovlinaBorgohain #Boxing #TokyoOlympics</td>\n",
       "      <td>0</td>\n",
       "      <td>0</td>\n",
       "      <td>Not tagged</td>\n",
       "      <td>385926583</td>\n",
       "      <td>ashokgehlot51</td>\n",
       "      <td>3071589</td>\n",
       "      <td>103</td>\n",
       "      <td>2011-10-06 11:27:58</td>\n",
       "      <td>11218</td>\n",
       "      <td>25876</td>\n",
       "      <td>NaN</td>\n",
       "      <td>True</td>\n",
       "      <td>Rajasthan, India</td>\n",
       "    </tr>\n",
       "    <tr>\n",
       "      <th>1</th>\n",
       "      <td>1422810754776846338</td>\n",
       "      <td>b'\\xe0\\xb2\\xac\\xe0\\xb2\\xbe\\xe0\\xb2\\x95\\xe0\\xb3...</td>\n",
       "      <td>2021-08-04 06:44:53</td>\n",
       "      <td>kn</td>\n",
       "      <td>#Boxing #India #Bronze #LovlinaBorgohein</td>\n",
       "      <td>0</td>\n",
       "      <td>0</td>\n",
       "      <td>Not tagged</td>\n",
       "      <td>3021179515</td>\n",
       "      <td>VVani4U</td>\n",
       "      <td>85480</td>\n",
       "      <td>635</td>\n",
       "      <td>2015-02-15 12:24:36</td>\n",
       "      <td>704</td>\n",
       "      <td>136936</td>\n",
       "      <td>NaN</td>\n",
       "      <td>False</td>\n",
       "      <td>Bengaluru</td>\n",
       "    </tr>\n",
       "    <tr>\n",
       "      <th>2</th>\n",
       "      <td>1422810746451283968</td>\n",
       "      <td>b'Let\\xe2\\x80\\x99s go Whittaker!! #Olympics202...</td>\n",
       "      <td>2021-08-04 06:44:51</td>\n",
       "      <td>en</td>\n",
       "      <td>#Olympics2021 #Boxing</td>\n",
       "      <td>0</td>\n",
       "      <td>0</td>\n",
       "      <td>Not tagged</td>\n",
       "      <td>276451356</td>\n",
       "      <td>imtalkingshite</td>\n",
       "      <td>327</td>\n",
       "      <td>984</td>\n",
       "      <td>2011-04-03 11:29:09</td>\n",
       "      <td>11749</td>\n",
       "      <td>9520</td>\n",
       "      <td>NaN</td>\n",
       "      <td>False</td>\n",
       "      <td>Bham &amp; Tobago</td>\n",
       "    </tr>\n",
       "    <tr>\n",
       "      <th>3</th>\n",
       "      <td>1422810740340117507</td>\n",
       "      <td>b'Congratulations #LovlinaBorgohain Won #Bronz...</td>\n",
       "      <td>2021-08-04 06:44:49</td>\n",
       "      <td>en</td>\n",
       "      <td>#LovlinaBorgohain #Bronze #India #Vijender #Ma...</td>\n",
       "      <td>0</td>\n",
       "      <td>0</td>\n",
       "      <td>Not tagged</td>\n",
       "      <td>633561358</td>\n",
       "      <td>samqdn</td>\n",
       "      <td>1759</td>\n",
       "      <td>506</td>\n",
       "      <td>2012-07-12 07:56:38</td>\n",
       "      <td>72488</td>\n",
       "      <td>11509</td>\n",
       "      <td>NaN</td>\n",
       "      <td>False</td>\n",
       "      <td>भारत🇮🇳, قادیان دارالامان</td>\n",
       "    </tr>\n",
       "    <tr>\n",
       "      <th>4</th>\n",
       "      <td>1422810720622759936</td>\n",
       "      <td>b'\\xe0\\xae\\x9f\\xe0\\xaf\\x8b\\xe0\\xae\\x95\\xe0\\xaf...</td>\n",
       "      <td>2021-08-04 06:44:44</td>\n",
       "      <td>ta</td>\n",
       "      <td>#Tokyo2020 #TeamIndia #Olympics #Lovlina #Boxing</td>\n",
       "      <td>0</td>\n",
       "      <td>0</td>\n",
       "      <td>Not tagged</td>\n",
       "      <td>346379998</td>\n",
       "      <td>KollywoodCinima</td>\n",
       "      <td>646756</td>\n",
       "      <td>16</td>\n",
       "      <td>2011-08-01 05:07:36</td>\n",
       "      <td>28843</td>\n",
       "      <td>181938</td>\n",
       "      <td>NaN</td>\n",
       "      <td>False</td>\n",
       "      <td>Chennai</td>\n",
       "    </tr>\n",
       "    <tr>\n",
       "      <th>...</th>\n",
       "      <td>...</td>\n",
       "      <td>...</td>\n",
       "      <td>...</td>\n",
       "      <td>...</td>\n",
       "      <td>...</td>\n",
       "      <td>...</td>\n",
       "      <td>...</td>\n",
       "      <td>...</td>\n",
       "      <td>...</td>\n",
       "      <td>...</td>\n",
       "      <td>...</td>\n",
       "      <td>...</td>\n",
       "      <td>...</td>\n",
       "      <td>...</td>\n",
       "      <td>...</td>\n",
       "      <td>...</td>\n",
       "      <td>...</td>\n",
       "      <td>...</td>\n",
       "    </tr>\n",
       "    <tr>\n",
       "      <th>19995</th>\n",
       "      <td>1421584867108720641</td>\n",
       "      <td>b'Laura Woods is a great presenter @DAZNBoxing...</td>\n",
       "      <td>2021-07-31 21:33:38</td>\n",
       "      <td>en</td>\n",
       "      <td>#boxing</td>\n",
       "      <td>1</td>\n",
       "      <td>8</td>\n",
       "      <td>Not tagged</td>\n",
       "      <td>1337341311108722690</td>\n",
       "      <td>BoxingTalk18</td>\n",
       "      <td>327</td>\n",
       "      <td>118</td>\n",
       "      <td>2020-12-11 10:20:00</td>\n",
       "      <td>6574</td>\n",
       "      <td>6144</td>\n",
       "      <td>NaN</td>\n",
       "      <td>False</td>\n",
       "      <td>NaN</td>\n",
       "    </tr>\n",
       "    <tr>\n",
       "      <th>19996</th>\n",
       "      <td>1421584758837030913</td>\n",
       "      <td>b'ufc vegas 33 tonight \\nmy pick is uriah hall...</td>\n",
       "      <td>2021-07-31 21:33:12</td>\n",
       "      <td>en</td>\n",
       "      <td>#UFCVegas33 #Bellator263 #uriahhall #ufc #mma ...</td>\n",
       "      <td>0</td>\n",
       "      <td>1</td>\n",
       "      <td>Not tagged</td>\n",
       "      <td>1418838349008211971</td>\n",
       "      <td>DylanBurman9</td>\n",
       "      <td>2</td>\n",
       "      <td>12</td>\n",
       "      <td>2021-07-24 07:41:00</td>\n",
       "      <td>5</td>\n",
       "      <td>17</td>\n",
       "      <td>NaN</td>\n",
       "      <td>False</td>\n",
       "      <td>NaN</td>\n",
       "    </tr>\n",
       "    <tr>\n",
       "      <th>19997</th>\n",
       "      <td>1421584749227819008</td>\n",
       "      <td>b'Good Luck Pat \\xf0\\x9f\\x92\\xaa\\xf0\\x9f\\x8f\\x...</td>\n",
       "      <td>2021-07-31 21:33:10</td>\n",
       "      <td>en</td>\n",
       "      <td>#boxing #TeamGB #bbcolympics</td>\n",
       "      <td>0</td>\n",
       "      <td>0</td>\n",
       "      <td>Not tagged</td>\n",
       "      <td>1273304328422522882</td>\n",
       "      <td>WLT2765</td>\n",
       "      <td>77</td>\n",
       "      <td>513</td>\n",
       "      <td>2020-06-17 17:19:55</td>\n",
       "      <td>13905</td>\n",
       "      <td>3449</td>\n",
       "      <td>NaN</td>\n",
       "      <td>False</td>\n",
       "      <td>NaN</td>\n",
       "    </tr>\n",
       "    <tr>\n",
       "      <th>19998</th>\n",
       "      <td>1421584725731332098</td>\n",
       "      <td>b'A origem da p\\xc3\\xaara de \\xc3\\xa1gua no bo...</td>\n",
       "      <td>2021-07-31 21:33:05</td>\n",
       "      <td>pt</td>\n",
       "      <td>#universidadedoboxe #uniboxe #boxe #boxing #fa...</td>\n",
       "      <td>0</td>\n",
       "      <td>0</td>\n",
       "      <td>Not tagged</td>\n",
       "      <td>1300160611125547010</td>\n",
       "      <td>uniboxe</td>\n",
       "      <td>2</td>\n",
       "      <td>0</td>\n",
       "      <td>2020-08-30 19:57:16</td>\n",
       "      <td>0</td>\n",
       "      <td>448</td>\n",
       "      <td>NaN</td>\n",
       "      <td>False</td>\n",
       "      <td>NaN</td>\n",
       "    </tr>\n",
       "    <tr>\n",
       "      <th>19999</th>\n",
       "      <td>1421584702377443330</td>\n",
       "      <td>b'Absolute joke of a decision \\xf0\\x9f\\x99\\x88...</td>\n",
       "      <td>2021-07-31 21:32:59</td>\n",
       "      <td>en</td>\n",
       "      <td>#boxing</td>\n",
       "      <td>11</td>\n",
       "      <td>70</td>\n",
       "      <td>Not tagged</td>\n",
       "      <td>1441254962</td>\n",
       "      <td>jackmassey123</td>\n",
       "      <td>3899</td>\n",
       "      <td>2616</td>\n",
       "      <td>2013-05-19 13:54:52</td>\n",
       "      <td>3188</td>\n",
       "      <td>2275</td>\n",
       "      <td>NaN</td>\n",
       "      <td>False</td>\n",
       "      <td>Manchester, England</td>\n",
       "    </tr>\n",
       "  </tbody>\n",
       "</table>\n",
       "<p>20000 rows × 18 columns</p>\n",
       "</div>"
      ],
      "text/plain": [
       "                  tweet_id                                    tweet_full_text  \\\n",
       "0      1422810757440237569  b'Heartiest Congratulations to #LovlinaBorgoha...   \n",
       "1      1422810754776846338  b'\\xe0\\xb2\\xac\\xe0\\xb2\\xbe\\xe0\\xb2\\x95\\xe0\\xb3...   \n",
       "2      1422810746451283968  b'Let\\xe2\\x80\\x99s go Whittaker!! #Olympics202...   \n",
       "3      1422810740340117507  b'Congratulations #LovlinaBorgohain Won #Bronz...   \n",
       "4      1422810720622759936  b'\\xe0\\xae\\x9f\\xe0\\xaf\\x8b\\xe0\\xae\\x95\\xe0\\xaf...   \n",
       "...                    ...                                                ...   \n",
       "19995  1421584867108720641  b'Laura Woods is a great presenter @DAZNBoxing...   \n",
       "19996  1421584758837030913  b'ufc vegas 33 tonight \\nmy pick is uriah hall...   \n",
       "19997  1421584749227819008  b'Good Luck Pat \\xf0\\x9f\\x92\\xaa\\xf0\\x9f\\x8f\\x...   \n",
       "19998  1421584725731332098  b'A origem da p\\xc3\\xaara de \\xc3\\xa1gua no bo...   \n",
       "19999  1421584702377443330  b'Absolute joke of a decision \\xf0\\x9f\\x99\\x88...   \n",
       "\n",
       "          tweet_created_at tweet_lang  \\\n",
       "0      2021-08-04 06:44:53         en   \n",
       "1      2021-08-04 06:44:53         kn   \n",
       "2      2021-08-04 06:44:51         en   \n",
       "3      2021-08-04 06:44:49         en   \n",
       "4      2021-08-04 06:44:44         ta   \n",
       "...                    ...        ...   \n",
       "19995  2021-07-31 21:33:38         en   \n",
       "19996  2021-07-31 21:33:12         en   \n",
       "19997  2021-07-31 21:33:10         en   \n",
       "19998  2021-07-31 21:33:05         pt   \n",
       "19999  2021-07-31 21:32:59         en   \n",
       "\n",
       "                                                hashtags  tweet_retweet_count  \\\n",
       "0              #LovlinaBorgohain #Boxing #TokyoOlympics                     0   \n",
       "1              #Boxing #India #Bronze #LovlinaBorgohein                     0   \n",
       "2                                 #Olympics2021 #Boxing                     0   \n",
       "3      #LovlinaBorgohain #Bronze #India #Vijender #Ma...                    0   \n",
       "4      #Tokyo2020 #TeamIndia #Olympics #Lovlina #Boxing                     0   \n",
       "...                                                  ...                  ...   \n",
       "19995                                           #boxing                     1   \n",
       "19996  #UFCVegas33 #Bellator263 #uriahhall #ufc #mma ...                    0   \n",
       "19997                      #boxing #TeamGB #bbcolympics                     0   \n",
       "19998  #universidadedoboxe #uniboxe #boxe #boxing #fa...                    0   \n",
       "19999                                           #boxing                    11   \n",
       "\n",
       "       tweet_favorite_count tweet_place              user_id user_screen_name  \\\n",
       "0                         0  Not tagged            385926583    ashokgehlot51   \n",
       "1                         0  Not tagged           3021179515          VVani4U   \n",
       "2                         0  Not tagged            276451356   imtalkingshite   \n",
       "3                         0  Not tagged            633561358           samqdn   \n",
       "4                         0  Not tagged            346379998  KollywoodCinima   \n",
       "...                     ...         ...                  ...              ...   \n",
       "19995                     8  Not tagged  1337341311108722690     BoxingTalk18   \n",
       "19996                     1  Not tagged  1418838349008211971     DylanBurman9   \n",
       "19997                     0  Not tagged  1273304328422522882          WLT2765   \n",
       "19998                     0  Not tagged  1300160611125547010          uniboxe   \n",
       "19999                    70  Not tagged           1441254962    jackmassey123   \n",
       "\n",
       "       user_followers_count  user_friends_count      user_created_at  \\\n",
       "0                   3071589                 103  2011-10-06 11:27:58   \n",
       "1                     85480                 635  2015-02-15 12:24:36   \n",
       "2                       327                 984  2011-04-03 11:29:09   \n",
       "3                      1759                 506  2012-07-12 07:56:38   \n",
       "4                    646756                  16  2011-08-01 05:07:36   \n",
       "...                     ...                 ...                  ...   \n",
       "19995                   327                 118  2020-12-11 10:20:00   \n",
       "19996                     2                  12  2021-07-24 07:41:00   \n",
       "19997                    77                 513  2020-06-17 17:19:55   \n",
       "19998                     2                   0  2020-08-30 19:57:16   \n",
       "19999                  3899                2616  2013-05-19 13:54:52   \n",
       "\n",
       "       user_favourites_count  user_statuses_count  user_lang  user_verified  \\\n",
       "0                      11218                25876        NaN           True   \n",
       "1                        704               136936        NaN          False   \n",
       "2                      11749                 9520        NaN          False   \n",
       "3                      72488                11509        NaN          False   \n",
       "4                      28843               181938        NaN          False   \n",
       "...                      ...                  ...        ...            ...   \n",
       "19995                   6574                 6144        NaN          False   \n",
       "19996                      5                   17        NaN          False   \n",
       "19997                  13905                 3449        NaN          False   \n",
       "19998                      0                  448        NaN          False   \n",
       "19999                   3188                 2275        NaN          False   \n",
       "\n",
       "                   user_location  \n",
       "0               Rajasthan, India  \n",
       "1                      Bengaluru  \n",
       "2                  Bham & Tobago  \n",
       "3      भारत🇮🇳, قادیان دارالامان   \n",
       "4                        Chennai  \n",
       "...                          ...  \n",
       "19995                        NaN  \n",
       "19996                        NaN  \n",
       "19997                        NaN  \n",
       "19998                        NaN  \n",
       "19999        Manchester, England  \n",
       "\n",
       "[20000 rows x 18 columns]"
      ]
     },
     "execution_count": 3,
     "metadata": {},
     "output_type": "execute_result"
    }
   ],
   "source": [
    "data"
   ]
  },
  {
   "cell_type": "markdown",
   "id": "ae62aafe",
   "metadata": {},
   "source": [
    "what can we say about the users who tweeted this"
   ]
  },
  {
   "cell_type": "markdown",
   "id": "e50e1cb8",
   "metadata": {},
   "source": [
    "# Verification"
   ]
  },
  {
   "cell_type": "code",
   "execution_count": 4,
   "id": "5f55b293",
   "metadata": {},
   "outputs": [
    {
     "data": {
      "image/png": "[encoded data removed]",
      "text/plain": [
       "<Figure size 432x288 with 1 Axes>"
      ]
     },
     "metadata": {},
     "output_type": "display_data"
    }
   ],
   "source": [
    "verified = data['user_verified']\n",
    "val1, val2 = verified.value_counts()\n",
    "\n",
    "plt.pie([val1,val2], labels=['not verified', 'verified'])\n",
    "plt.title(\"verified status of users\")\n",
    "\n",
    "plt.show()"
   ]
  },
  {
   "cell_type": "code",
   "execution_count": 5,
   "id": "582bd21b",
   "metadata": {},
   "outputs": [
    {
     "data": {
      "text/plain": [
       "False    18074\n",
       "True      1926\n",
       "Name: user_verified, dtype: int64"
      ]
     },
     "execution_count": 5,
     "metadata": {},
     "output_type": "execute_result"
    }
   ],
   "source": [
    "verified.value_counts()"
   ]
  },
  {
   "cell_type": "code",
   "execution_count": 29,
   "id": "d4b558be",
   "metadata": {},
   "outputs": [
    {
     "data": {
      "image/png": "[encoded data removed]",
      "text/plain": [
       "<Figure size 432x288 with 1 Axes>"
      ]
     },
     "metadata": {
      "needs_background": "light"
     },
     "output_type": "display_data"
    }
   ],
   "source": [
    "plt.hist(data['user_followers_count'],bins = 100, range = (0,10000))\n",
    "plt.show()"
   ]
  },
  {
   "cell_type": "code",
   "execution_count": 30,
   "id": "13d4c509",
   "metadata": {},
   "outputs": [
    {
     "data": {
      "text/plain": [
       "count    2.000000e+04\n",
       "mean     7.264375e+04\n",
       "std      6.276263e+05\n",
       "min      0.000000e+00\n",
       "25%      1.500000e+02\n",
       "50%      5.770000e+02\n",
       "75%      2.750000e+03\n",
       "max      1.595158e+07\n",
       "Name: user_followers_count, dtype: float64"
      ]
     },
     "execution_count": 30,
     "metadata": {},
     "output_type": "execute_result"
    }
   ],
   "source": [
    "data['user_followers_count'].describe()"
   ]
  },
  {
   "cell_type": "code",
   "execution_count": 31,
   "id": "bfd78836",
   "metadata": {},
   "outputs": [
    {
     "data": {
      "image/png": "[encoded data removed]",
      "text/plain": [
       "<Figure size 432x288 with 1 Axes>"
      ]
     },
     "metadata": {
      "needs_background": "light"
     },
     "output_type": "display_data"
    }
   ],
   "source": [
    "plt.hist(data['user_friends_count'],bins = 100, range = (0,10000))\n",
    "plt.show()"
   ]
  },
  {
   "cell_type": "code",
   "execution_count": 32,
   "id": "ba8976ff",
   "metadata": {},
   "outputs": [
    {
     "data": {
      "text/plain": [
       "count    20000.000000\n",
       "mean      1089.073850\n",
       "std       2299.663302\n",
       "min          0.000000\n",
       "25%        186.000000\n",
       "50%        480.000000\n",
       "75%       1116.000000\n",
       "max      83833.000000\n",
       "Name: user_friends_count, dtype: float64"
      ]
     },
     "execution_count": 32,
     "metadata": {},
     "output_type": "execute_result"
    }
   ],
   "source": [
    "data['user_friends_count'].describe()"
   ]
  },
  {
   "cell_type": "code",
   "execution_count": 52,
   "id": "92071af7",
   "metadata": {},
   "outputs": [
    {
     "data": {
      "image/png": "[encoded data removed]",
      "text/plain": [
       "<Figure size 432x288 with 1 Axes>"
      ]
     },
     "metadata": {},
     "output_type": "display_data"
    }
   ],
   "source": [
    "data['tweet_lang'].describe()\n",
    "labels = []\n",
    "for i in range(0,51):\n",
    "    labels.append(None)\n",
    "labels[0] = 'english'\n",
    "labels[1] = 'spanish'\n",
    "data['tweet_lang'].value_counts().plot(kind='pie', labels=labels)\n",
    "plt.show()"
   ]
  },
  {
   "cell_type": "code",
   "execution_count": 6,
   "id": "4c2bfefa",
   "metadata": {},
   "outputs": [
    {
     "data": {
      "text/plain": [
       "en     12261\n",
       "es      2543\n",
       "pt      1261\n",
       "tl       763\n",
       "ja       657\n",
       "und      557\n",
       "hi       344\n",
       "fr       221\n",
       "in       158\n",
       "tr       145\n",
       "th       122\n",
       "ru        93\n",
       "ta        72\n",
       "nl        64\n",
       "de        64\n",
       "zh        54\n",
       "mr        51\n",
       "gu        46\n",
       "it        45\n",
       "pl        40\n",
       "fi        40\n",
       "ca        39\n",
       "bn        32\n",
       "kn        32\n",
       "ar        27\n",
       "ro        26\n",
       "et        25\n",
       "cy        25\n",
       "da        24\n",
       "te        22\n",
       "no        21\n",
       "ml        16\n",
       "or        14\n",
       "sv        14\n",
       "cs        12\n",
       "ht        11\n",
       "lt        10\n",
       "hu         9\n",
       "sl         8\n",
       "el         6\n",
       "bg         5\n",
       "ur         4\n",
       "eu         4\n",
       "uk         3\n",
       "vi         2\n",
       "pa         2\n",
       "lv         2\n",
       "is         1\n",
       "sr         1\n",
       "ko         1\n",
       "ne         1\n",
       "Name: tweet_lang, dtype: int64"
      ]
     },
     "execution_count": 6,
     "metadata": {},
     "output_type": "execute_result"
    }
   ],
   "source": [
    "data['tweet_lang'].value_counts()\n",
    "# labels = []\n",
    "# for i in range(0,51):\n",
    "#     labels.append(None)\n",
    "# labels[0] = 'english'\n",
    "# labels[1] = 'spanish'\n",
    "# data['tweet_place'].value_counts().plot(kind='pie')\n",
    "# plt.show()"
   ]
  },
  {
   "cell_type": "code",
   "execution_count": null,
   "id": "81101c2a",
   "metadata": {},
   "outputs": [],
   "source": []
  }
 ],
 "metadata": {
  "kernelspec": {
   "display_name": "Python 3",
   "language": "python",
   "name": "python3"
  },
  "language_info": {
   "codemirror_mode": {
    "name": "ipython",
    "version": 3
   },
   "file_extension": ".py",
   "mimetype": "text/x-python",
   "name": "python",
   "nbconvert_exporter": "python",
   "pygments_lexer": "ipython3",
   "version": "3.7.10"
  }
 },
 "nbformat": 4,
 "nbformat_minor": 5
}
